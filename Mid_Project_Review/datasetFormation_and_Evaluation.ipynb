{
  "cells": [
    {
      "cell_type": "code",
      "execution_count": 7,
      "id": "D2sdhUm7YRsj",
      "metadata": {
        "colab": {
          "base_uri": "https://localhost:8080/"
        },
        "id": "D2sdhUm7YRsj",
        "outputId": "033f78d4-c539-4bfa-cf01-49ea40693ca5"
      },
      "outputs": [
        {
          "name": "stdout",
          "output_type": "stream",
          "text": [
            "Mounted at /content/drive\n"
          ]
        }
      ],
      "source": [
        "from google.colab import drive\n",
        "drive.mount('/content/drive')"
      ]
    },
    {
      "cell_type": "code",
      "execution_count": 160,
      "id": "e8d4b124",
      "metadata": {
        "id": "e8d4b124"
      },
      "outputs": [],
      "source": [
        "import csv\n",
        "import pickle\n",
        "import joblib\n",
        "import matplotlib.pyplot as plt\n",
        "import re\n",
        "import numpy as np\n",
        "import pandas as pd\n",
        "from nltk.corpus import stopwords\n",
        "from nltk.stem import WordNetLemmatizer\n",
        "from itertools import combinations\n",
        "from time import time\n",
        "from nltk.tokenize import RegexpTokenizer\n",
        "from collections import OrderedDict\n",
        "import warnings\n",
        "import numpy as np\n",
        "import pandas as pd\n",
        "from sklearn.metrics import accuracy_score, precision_recall_fscore_support\n",
        "from sklearn.model_selection import train_test_split, cross_val_score\n",
        "from sklearn.naive_bayes import MultinomialNB\n",
        "from statistics import mean\n",
        "from nltk.corpus import wordnet \n",
        "import requests\n",
        "from bs4 import BeautifulSoup\n",
        "from collections import Counter\n",
        "import operator\n",
        "from xgboost import XGBClassifier\n",
        "import math \n",
        "import time\n",
        "import warnings\n",
        "warnings.filterwarnings(\"ignore\")\n",
        "from sklearn.ensemble import RandomForestClassifier\n",
        "from sklearn.linear_model import LogisticRegression\n",
        "from sklearn.neighbors import KNeighborsClassifier\n",
        "from sklearn.tree import DecisionTreeClassifier\n",
        "from sklearn.svm import SVC\n",
        "stop_words = stopwords.words('english')\n",
        "from gensim.parsing.preprocessing import remove_stopwords\n",
        "from decimal import Decimal"
      ]
    },
    {
      "cell_type": "code",
      "execution_count": 2,
      "id": "TVt0llj0Jn4R",
      "metadata": {
        "colab": {
          "base_uri": "https://localhost:8080/"
        },
        "id": "TVt0llj0Jn4R",
        "outputId": "f84fa2d7-a92e-4a1f-b881-9517ef0782c1"
      },
      "outputs": [
        {
          "name": "stdout",
          "output_type": "stream",
          "text": [
            "[nltk_data] Downloading package stopwords to /root/nltk_data...\n",
            "[nltk_data]   Unzipping corpora/stopwords.zip.\n",
            "[nltk_data] Downloading package punkt to /root/nltk_data...\n",
            "[nltk_data]   Unzipping tokenizers/punkt.zip.\n",
            "[nltk_data] Downloading package wordnet to /root/nltk_data...\n",
            "[nltk_data]   Unzipping corpora/wordnet.zip.\n"
          ]
        },
        {
          "data": {
            "text/plain": [
              "True"
            ]
          },
          "execution_count": 2,
          "metadata": {},
          "output_type": "execute_result"
        }
      ],
      "source": [
        "import nltk\n",
        "nltk.download('stopwords')\n",
        "nltk.download('punkt')\n",
        "nltk.download('wordnet')  "
      ]
    },
    {
      "cell_type": "code",
      "execution_count": 3,
      "id": "cac23574",
      "metadata": {
        "id": "cac23574"
      },
      "outputs": [],
      "source": [
        "symptoms_vocab = set() # Stores all unique symptoms\n",
        "Processed_SympD= OrderedDict() # Key: disease, Value:[List of symptoms]"
      ]
    },
    {
      "cell_type": "markdown",
      "id": "de7jUi2Riw87",
      "metadata": {
        "id": "de7jUi2Riw87"
      },
      "source": [
        "loading the disease-symptom dictionary that is scraped from the websites"
      ]
    },
    {
      "cell_type": "code",
      "execution_count": 17,
      "id": "b85289ff",
      "metadata": {
        "id": "b85289ff"
      },
      "outputs": [],
      "source": [
        "infile = open('/content/drive/MyDrive/full_Dict_IR.pickle','rb')\n",
        "full_dict = pickle.load(infile)"
      ]
    },
    {
      "cell_type": "markdown",
      "id": "pDQ65ZQgj3OL",
      "metadata": {
        "id": "pDQ65ZQgj3OL"
      },
      "source": [
        "function to get synonym of the word"
      ]
    },
    {
      "cell_type": "code",
      "execution_count": 5,
      "id": "i2fcbkmuFgRs",
      "metadata": {
        "id": "i2fcbkmuFgRs"
      },
      "outputs": [],
      "source": [
        "def create_Synonym(term):\n",
        "    mySynonyms = []\n",
        "    final_Syn = []\n",
        "    website = 'https://www.synonym.com/synonyms/';\n",
        "    myLinkFinder = website + term\n",
        "    synoPage = requests.get(myLinkFinder,verify=False)\n",
        "    currContent = BeautifulSoup(synoPage.content, 'html5lib')\n",
        "    html_Div = currContent.find('div', class_='section-list-wrapper show')\n",
        "    if html_Div != None:\n",
        "        rows = html_Div.find_all('li')\n",
        "        if rows!=None:\n",
        "            for row in rows:\n",
        "                mySynonyms.append(row.gdrive)\n",
        "\n",
        "            for currSyn in wordnet.synsets(term):\n",
        "                mySynonyms+=currSyn.lemma_names()\n",
        "  \n",
        "            for idx in mySynonyms:\n",
        "                if idx == None:\n",
        "                    continue;\n",
        "                else :\n",
        "                    final_Syn.append(idx)\n",
        "\n",
        "  \n",
        "    return set(final_Syn)\n",
        "\n",
        "def extend_symptoms(refined_symptoms):\n",
        "  extended_symptom=[]\n",
        "  for sym in refined_symptoms:\n",
        "  #remove stopwords if any before taking its synonym\n",
        "    sym=remove_stopwords(sym)\n",
        "    sym = sym.split()\n",
        "    set_sym = set()\n",
        "    for comb in range(1, len(sym)+1):\n",
        "        for sub_set in combinations(sym, comb):\n",
        "            sub_set=' '.join(sub_set)\n",
        "            sub_set = create_Synonym(sub_set) \n",
        "            set_sym.update(sub_set)\n",
        "        set_sym.update(sym)\n",
        "    extended_symptom.append(' '.join(set_sym))\n",
        "  #print(extended_symptom)\n",
        "  return extended_symptom\n",
        "\n",
        "def getJaccard(setA,setB):\n",
        "  #print(setA,setB)\n",
        "  return(len(setA.intersection(setB))/len(setA.union(setB)))"
      ]
    },
    {
      "cell_type": "code",
      "execution_count": null,
      "id": "Mm5ATkul0bVt",
      "metadata": {
        "id": "Mm5ATkul0bVt"
      },
      "outputs": [],
      "source": [
        "unique_symptoms=set()\n",
        "disease_symptom_clean={}"
      ]
    },
    {
      "cell_type": "markdown",
      "id": "d6lpXsVmyFHI",
      "metadata": {
        "id": "d6lpXsVmyFHI"
      },
      "source": [
        "code to clean the symptoms as it has as punctuations, unwanted text etc."
      ]
    },
    {
      "cell_type": "code",
      "execution_count": null,
      "id": "LQvxuqPsB56W",
      "metadata": {
        "id": "LQvxuqPsB56W"
      },
      "outputs": [],
      "source": [
        "#cleaning symptoms initially \n",
        "for dis in full_dict.keys():\n",
        "  val = full_dict[dis]\n",
        "  my_list=val.lower().split(\",\")\n",
        "  list_change=[]\n",
        "  for token in my_list:\n",
        "    token=token.strip()\n",
        "    if \"(\" in token or \")\" in token:\n",
        "      list_change.append(token.split(\" \")[0])\n",
        "    else:\n",
        "      list_change.append(token)\n",
        "  \n",
        "  temp=[]\n",
        "  for sym in list_change:\n",
        "    sym=sym.replace('-',' ')\n",
        "    sym=sym.replace(\"'\",'')\n",
        "    sym=sym.replace(\",\",'')\n",
        "    sym=sym.replace(\"(\",'')\n",
        "    sym=sym.replace(\")\",'')\n",
        "    sym=sym.replace(\":\",'')\n",
        "    if sym in stop_words:\n",
        "      continue\n",
        "    if len(sym)==0:\n",
        "      continue\n",
        "    temp.append(sym)\n",
        "    unique_symptoms.add(sym)\n",
        "  disease_symptom_clean[dis]=temp"
      ]
    },
    {
      "cell_type": "code",
      "execution_count": 23,
      "id": "a701623f",
      "metadata": {
        "colab": {
          "base_uri": "https://localhost:8080/"
        },
        "id": "a701623f",
        "outputId": "700984c0-dbd7-431e-942e-d07f929e3014"
      },
      "outputs": [
        {
          "name": "stdout",
          "output_type": "stream",
          "text": [
            "606\n"
          ]
        }
      ],
      "source": [
        "symptoms_vocab = list(unique_symptoms)\n",
        "symptoms_vocab.sort()\n",
        "symptoms_vocab.remove(\"\")"
      ]
    },
    {
      "cell_type": "markdown",
      "id": "7ruMkW35liFY",
      "metadata": {
        "id": "7ruMkW35liFY"
      },
      "source": [
        "adding synonyms to the symptoms"
      ]
    },
    {
      "cell_type": "code",
      "execution_count": null,
      "id": "CEqKN3h20o05",
      "metadata": {
        "id": "CEqKN3h20o05"
      },
      "outputs": [],
      "source": [
        "Symptom_SynDict={}\n",
        "for symptom in unique_symptoms:\n",
        "    Symptom_SynDict[symptom]=extend_symptoms(symptom)"
      ]
    },
    {
      "cell_type": "markdown",
      "id": "V9Qf2EEs1Tfg",
      "metadata": {
        "id": "V9Qf2EEs1Tfg"
      },
      "source": [
        "saving the symptom-synonym dictionary as pickle file"
      ]
    },
    {
      "cell_type": "code",
      "execution_count": null,
      "id": "ebb85665",
      "metadata": {
        "id": "ebb85665"
      },
      "outputs": [],
      "source": [
        "pickle.dump(open(\"Symptom_SynDict\",'wb'))"
      ]
    },
    {
      "cell_type": "code",
      "execution_count": 19,
      "id": "bFJX1PgIXsu2",
      "metadata": {
        "id": "bFJX1PgIXsu2"
      },
      "outputs": [],
      "source": [
        "infile = open('/content/drive/MyDrive/Symptom_SynDict (1).pickle','rb')\n",
        "symptom_synonym = pickle.load(infile)"
      ]
    },
    {
      "cell_type": "code",
      "execution_count": 20,
      "id": "l9j-D4sNZWXI",
      "metadata": {
        "id": "l9j-D4sNZWXI"
      },
      "outputs": [],
      "source": [
        "del symptom_synonym['']"
      ]
    },
    {
      "cell_type": "markdown",
      "id": "74wcbHpD1z5-",
      "metadata": {
        "id": "74wcbHpD1z5-"
      },
      "source": [
        "now we are filtering the symptoms if two symptoms has jaccard value greater than 0.65(our threshold) than this means that they are almost same."
      ]
    },
    {
      "cell_type": "code",
      "execution_count": null,
      "id": "8ff54047",
      "metadata": {
        "id": "8ff54047"
      },
      "outputs": [],
      "source": [
        "def Symptom_Matching(symptoms_vocab): \n",
        "    jac_coeff=getJaccard(symptoms_vocab[i],symptoms_vocab[i+1])\n",
        "    return jac_coeff\n",
        "matched_symptom=Symptom_Matching(sorted(unique_symptoms))"
      ]
    },
    {
      "cell_type": "markdown",
      "id": "rJzLiHiq7Wjl",
      "metadata": {
        "id": "rJzLiHiq7Wjl"
      },
      "source": [
        "taking only the unique symptoms as leaving the duplicate symptoms"
      ]
    },
    {
      "cell_type": "code",
      "execution_count": 31,
      "id": "5078e513",
      "metadata": {
        "id": "5078e513"
      },
      "outputs": [],
      "source": [
        "new_symptoms = set(unique_symptoms).difference(set(matched_symptom.keys()))"
      ]
    },
    {
      "cell_type": "markdown",
      "id": "Fs6qBF0w4CnU",
      "metadata": {
        "id": "Fs6qBF0w4CnU"
      },
      "source": [
        "making a list of symptoms to store as columns in dataframe"
      ]
    },
    {
      "cell_type": "code",
      "execution_count": 36,
      "id": "0Et8ekZSdWbF",
      "metadata": {
        "id": "0Et8ekZSdWbF"
      },
      "outputs": [],
      "source": [
        "new_symptoms = list(new_symptoms)\n",
        "new_symptoms.sort()\n",
        "final_symptoms=['label_disease']+new_symptoms"
      ]
    },
    {
      "cell_type": "markdown",
      "id": "VUcuixGr4K_h",
      "metadata": {
        "id": "VUcuixGr4K_h"
      },
      "source": [
        "creating two different dataframes- 1st represent each row as a disease, 2nd represent multiple rows as a disease,its makes our dataset enriched with different combinations of symptoms"
      ]
    },
    {
      "cell_type": "code",
      "execution_count": 101,
      "id": "umIzrZg_ewkG",
      "metadata": {
        "id": "umIzrZg_ewkG"
      },
      "outputs": [],
      "source": [
        "df_final = pd.DataFrame(columns=final_symptoms)\n",
        "df_final_comb = pd.DataFrame(columns=final_symptoms)"
      ]
    },
    {
      "cell_type": "markdown",
      "id": "eIDxyKjh_jhe",
      "metadata": {
        "id": "eIDxyKjh_jhe"
      },
      "source": [
        "function which returns the final symptoms"
      ]
    },
    {
      "cell_type": "code",
      "execution_count": null,
      "id": "1ns8rMiP9L7u",
      "metadata": {
        "id": "1ns8rMiP9L7u"
      },
      "outputs": [],
      "source": [
        "def get_final_values(val,matched_symptom):\n",
        "  temp=[]\n",
        "  for symptom in val:\n",
        "        if symptom not in matched_symptom.keys():\n",
        "          temp.append(symptom)\n",
        "        else:\n",
        "          temp.append(matched_symptom[symptom])\n",
        "  return temp"
      ]
    },
    {
      "cell_type": "markdown",
      "id": "RMsj9U_BG9is",
      "metadata": {
        "id": "RMsj9U_BG9is"
      },
      "source": [
        "dataframe value filling"
      ]
    },
    {
      "cell_type": "code",
      "execution_count": 112,
      "id": "JVk_k1yHfTiY",
      "metadata": {
        "id": "JVk_k1yHfTiY"
      },
      "outputs": [],
      "source": [
        "for key, val in Processed_SympD.items():\n",
        "    temp = get_final_values(val,matched_symptom)\n",
        "            \n",
        "    values = list(set(temp))\n",
        "    #updated dictionary\n",
        "    Processed_SympD[key] = values\n",
        "    \n",
        "    #creating first dataframe(with combination of symptoms)\n",
        "    normal = {}\n",
        "    for i in final_symptoms:\n",
        "     normal[i]=0\n",
        "    for sym in values:\n",
        "        normal[sym] = 1\n",
        "    normal['label_disease']=key\n",
        "    df_final = df_final.append(pd.Series(normal), ignore_index=True)\n",
        "\n",
        "    #creating second dataframe(with combination of symptoms)\n",
        "    for comb in range(2, 4):\n",
        "        for subset in combinations(values, comb):\n",
        "            comb = {}\n",
        "            for i in final_symptoms:\n",
        "               comb[i]=0\n",
        "            for sym in list(subset):\n",
        "                comb[sym]=1\n",
        "            comb['label_disease']=key\n",
        "            df_final_comb = df_final_comb.append(pd.Series(comb), ignore_index=True)"
      ]
    },
    {
      "cell_type": "code",
      "execution_count": 136,
      "id": "6JF26ns_l0Jd",
      "metadata": {
        "id": "6JF26ns_l0Jd"
      },
      "outputs": [],
      "source": [
        "df_final_comb.to_csv(\"df_final_comb.csv\",index=False)\n",
        "df_final_comb=df_final_comb.fillna(0)"
      ]
    },
    {
      "cell_type": "code",
      "execution_count": 137,
      "id": "OqBgKJefnBdA",
      "metadata": {
        "id": "OqBgKJefnBdA"
      },
      "outputs": [],
      "source": [
        "acc_list = []\n",
        "model_list = []"
      ]
    },
    {
      "cell_type": "markdown",
      "id": "MiPBWFEVIqUD",
      "metadata": {
        "id": "MiPBWFEVIqUD"
      },
      "source": [
        "dataspliting for training and testing"
      ]
    },
    {
      "cell_type": "code",
      "execution_count": 124,
      "id": "gKkeBAOVmsWB",
      "metadata": {
        "id": "gKkeBAOVmsWB"
      },
      "outputs": [],
      "source": [
        "X = df_final_comb.iloc[:, 1:]\n",
        "Y = df_final_comb.iloc[:, 0:1]\n",
        "x_train, x_test, y_train, y_test = train_test_split(X, Y, test_size=0.10,random_state=1)"
      ]
    },
    {
      "cell_type": "markdown",
      "id": "Ca0bPV6NIwNI",
      "metadata": {
        "id": "Ca0bPV6NIwNI"
      },
      "source": [
        "naive bayes"
      ]
    },
    {
      "cell_type": "code",
      "execution_count": 161,
      "id": "sM_UN-aKm22W",
      "metadata": {
        "colab": {
          "base_uri": "https://localhost:8080/"
        },
        "id": "sM_UN-aKm22W",
        "outputId": "b7eb4950-e5b3-49e7-a2fc-3bf9f707d023"
      },
      "outputs": [
        {
          "name": "stdout",
          "output_type": "stream",
          "text": [
            "Accuracy : 81.20%\n"
          ]
        },
        {
          "data": {
            "text/plain": [
              "['naive_bayes.pickle']"
            ]
          },
          "execution_count": 161,
          "metadata": {},
          "output_type": "execute_result"
        }
      ],
      "source": [
        "model_nb = MultinomialNB()\n",
        "model_nb = model_nb.fit(x_train, y_train)\n",
        "\n",
        "pred = model_nb.predict(x_test)\n",
        "acc = round(Decimal(accuracy_score(y_test, pred) * 100), 2)\n",
        "acc_list.append(acc)\n",
        "model_list.append(\"MNB\")\n",
        "print(f\"Accuracy : {acc}%\")\n",
        "joblib.dump(model_nb,\"naive_bayes.pickle\")"
      ]
    },
    {
      "cell_type": "markdown",
      "id": "oLZxlhPTIyxk",
      "metadata": {
        "id": "oLZxlhPTIyxk"
      },
      "source": [
        "random forest"
      ]
    },
    {
      "cell_type": "code",
      "execution_count": 162,
      "id": "Ncze2sikdESh",
      "metadata": {
        "colab": {
          "base_uri": "https://localhost:8080/"
        },
        "id": "Ncze2sikdESh",
        "outputId": "e9e10149-16ce-4427-ba45-2b52ae8c0980"
      },
      "outputs": [
        {
          "name": "stdout",
          "output_type": "stream",
          "text": [
            "Accuracy : 83.48%\n"
          ]
        },
        {
          "data": {
            "text/plain": [
              "['random_forest.pickle']"
            ]
          },
          "execution_count": 162,
          "metadata": {},
          "output_type": "execute_result"
        }
      ],
      "source": [
        "model_rf = RandomForestClassifier(n_estimators=10, criterion='entropy')\n",
        "model_rf = model_rf.fit(x_train, y_train)\n",
        "\n",
        "pred = model_rf.predict(x_test)\n",
        "acc = round(Decimal(accuracy_score(y_test, pred) * 100), 2)\n",
        "acc_list.append(acc)\n",
        "model_list.append(\"RF\")\n",
        "print(f\"Accuracy : {acc}%\")\n",
        "joblib.dump(model_rf,\"random_forest.pickle\")"
      ]
    },
    {
      "cell_type": "markdown",
      "id": "WpdbAJ9II1kT",
      "metadata": {
        "id": "WpdbAJ9II1kT"
      },
      "source": [
        "KNN"
      ]
    },
    {
      "cell_type": "code",
      "execution_count": 163,
      "id": "7xjk1DpWeFhw",
      "metadata": {
        "colab": {
          "base_uri": "https://localhost:8080/"
        },
        "id": "7xjk1DpWeFhw",
        "outputId": "62c616da-562d-4ae8-869d-a6e373c0a3b9"
      },
      "outputs": [
        {
          "name": "stdout",
          "output_type": "stream",
          "text": [
            "Accuracy : 86.99%\n"
          ]
        },
        {
          "data": {
            "text/plain": [
              "['knn.pickle']"
            ]
          },
          "execution_count": 163,
          "metadata": {},
          "output_type": "execute_result"
        }
      ],
      "source": [
        "model_knn = KNeighborsClassifier(n_neighbors=7, weights='distance', n_jobs=4)\n",
        "model_knn = model_knn.fit(x_train, y_train)\n",
        "\n",
        "pred = model_knn.predict(x_test)\n",
        "acc = round(Decimal(accuracy_score(y_test, pred) * 100), 2)\n",
        "acc_list.append(acc)\n",
        "model_list.append(\"KNN\")\n",
        "print(f\"Accuracy : {acc}%\")\n",
        "joblib.dump(model_knn,\"knn.pickle\")"
      ]
    },
    {
      "cell_type": "markdown",
      "id": "9BnT7h8nI3wl",
      "metadata": {
        "id": "9BnT7h8nI3wl"
      },
      "source": [
        "Logistic Regression"
      ]
    },
    {
      "cell_type": "code",
      "execution_count": 165,
      "id": "8SGuUABoeqf_",
      "metadata": {
        "colab": {
          "base_uri": "https://localhost:8080/"
        },
        "id": "8SGuUABoeqf_",
        "outputId": "efc3d0a7-0191-493a-919f-77b9ba31b467"
      },
      "outputs": [
        {
          "name": "stdout",
          "output_type": "stream",
          "text": [
            "Accuracy : 90.51%\n"
          ]
        },
        {
          "data": {
            "text/plain": [
              "['LR.pickle']"
            ]
          },
          "execution_count": 165,
          "metadata": {},
          "output_type": "execute_result"
        }
      ],
      "source": [
        "model_lr = LogisticRegression()\n",
        "model_lr = model_lr.fit(x_train, y_train)\n",
        "\n",
        "pred = model_lr.predict(x_test)\n",
        "acc = round(Decimal(accuracy_score(y_test, pred) * 100), 2)\n",
        "acc_list.append(acc)\n",
        "model_list.append(\"LR\")\n",
        "print(f\"Accuracy : {acc}%\")\n",
        "joblib.dump(model_lr,\"LR.pickle\")"
      ]
    },
    {
      "cell_type": "markdown",
      "id": "xrRk-pMTI7FE",
      "metadata": {
        "id": "xrRk-pMTI7FE"
      },
      "source": [
        "Svm"
      ]
    },
    {
      "cell_type": "code",
      "execution_count": 166,
      "id": "vht5bad1hF-i",
      "metadata": {
        "colab": {
          "base_uri": "https://localhost:8080/"
        },
        "id": "vht5bad1hF-i",
        "outputId": "de6b0d7f-f3df-4a31-a934-ddd88228ba07"
      },
      "outputs": [
        {
          "name": "stdout",
          "output_type": "stream",
          "text": [
            "Accuracy  : 90.16%\n"
          ]
        },
        {
          "data": {
            "text/plain": [
              "['svm.pickle']"
            ]
          },
          "execution_count": 166,
          "metadata": {},
          "output_type": "execute_result"
        }
      ],
      "source": [
        "model_svm = SVC()\n",
        "model_svm = model_svm.fit(x_train, y_train)\n",
        "\n",
        "pred = model_svm.predict(x_test)\n",
        "acc = round(Decimal(accuracy_score(y_test, pred) * 100), 2)\n",
        "acc_list.append(acc)\n",
        "model_list.append(\"SVM\")\n",
        "print(f\"Accuracy  : {acc}%\")\n",
        "joblib.dump(model_svm,\"svm.pickle\")"
      ]
    },
    {
      "cell_type": "markdown",
      "id": "U1RCMx2FI8zE",
      "metadata": {
        "id": "U1RCMx2FI8zE"
      },
      "source": [
        "Decision Tree"
      ]
    },
    {
      "cell_type": "code",
      "execution_count": 167,
      "id": "4xC-1xtphHEr",
      "metadata": {
        "colab": {
          "base_uri": "https://localhost:8080/"
        },
        "id": "4xC-1xtphHEr",
        "outputId": "43472af2-c4da-4851-ff1f-2cb2a3379fef"
      },
      "outputs": [
        {
          "name": "stdout",
          "output_type": "stream",
          "text": [
            "Accuracy : 76.98%\n"
          ]
        },
        {
          "data": {
            "text/plain": [
              "['dt.pickle']"
            ]
          },
          "execution_count": 167,
          "metadata": {},
          "output_type": "execute_result"
        }
      ],
      "source": [
        "model_dt = DecisionTreeClassifier()\n",
        "model_dt = model_dt.fit(x_train, y_train)\n",
        "\n",
        "pred = model_dt.predict(x_test)\n",
        "acc = round(Decimal(accuracy_score(y_test, pred) * 100), 2)\n",
        "acc_list.append(acc)\n",
        "model_list.append(\"DT\")\n",
        "print(f\"Accuracy : {acc}%\")\n",
        "joblib.dump(model_dt,\"dt.pickle\")"
      ]
    },
    {
      "cell_type": "markdown",
      "id": "O0-FhMdmI_gB",
      "metadata": {
        "id": "O0-FhMdmI_gB"
      },
      "source": [
        "Plotting the graph of model vs accuracy"
      ]
    },
    {
      "cell_type": "code",
      "execution_count": 157,
      "id": "yPk7y9G6vDM0",
      "metadata": {
        "colab": {
          "base_uri": "https://localhost:8080/",
          "height": 375
        },
        "id": "yPk7y9G6vDM0",
        "outputId": "ce8ac7bd-a787-4be7-8b57-8d2bbf24474d"
      },
      "outputs": [
        {
          "data": {
            "image/png": "[encoded data removed]",
            "text/plain": [
              "<Figure size 360x360 with 1 Axes>"
            ]
          },
          "metadata": {
            "needs_background": "light"
          },
          "output_type": "display_data"
        }
      ],
      "source": [
        "plt.style.use('seaborn-poster')\n",
        "fig = plt.figure(figsize=(5, 5))\n",
        "ax = fig.add_subplot()\n",
        "plt.title(\"Models vs Accuracy\")\n",
        "plt.xlabel('models')\n",
        "plt.ylabel('Accuracy (%)')\n",
        "plt.bar(model_list, acc_list, color='blue')\n",
        "for i, j in enumerate(acc_list):\n",
        "    ax.text(float(i)-0.20, float(j)+0.7, str(j), color='red')\n",
        "plt.show()"
      ]
    }
  ],
  "metadata": {
    "colab": {
      "collapsed_sections": [],
      "name": "SympMatching2 (3).ipynb",
      "provenance": []
    },
    "kernelspec": {
      "display_name": "Python 3",
      "language": "python",
      "name": "python3"
    },
    "language_info": {
      "codemirror_mode": {
        "name": "ipython",
        "version": 3
      },
      "file_extension": ".py",
      "mimetype": "text/x-python",
      "name": "python",
      "nbconvert_exporter": "python",
      "pygments_lexer": "ipython3",
      "version": "3.8.8"
    }
  },
  "nbformat": 4,
  "nbformat_minor": 5
}
