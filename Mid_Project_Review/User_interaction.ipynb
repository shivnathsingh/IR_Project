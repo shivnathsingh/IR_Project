{
  "cells": [
    {
      "cell_type": "code",
      "execution_count": 2,
      "metadata": {
        "colab": {
          "base_uri": "https://localhost:8080/"
        },
        "id": "UsbtGPHFzIK7",
        "outputId": "51c1a7d9-4292-4f25-bce9-6e83547fdeda"
      },
      "outputs": [
        {
          "name": "stdout",
          "output_type": "stream",
          "text": [
            "Mounted at /content/gdrive\n"
          ]
        }
      ],
      "source": [
        "from google.colab import drive\n",
        "drive.mount('/content/gdrive')"
      ]
    },
    {
      "cell_type": "code",
      "execution_count": 36,
      "metadata": {
        "colab": {
          "base_uri": "https://localhost:8080/"
        },
        "id": "GCV2Gd38zvxr",
        "outputId": "be18815f-ab13-4fba-9e09-0e08e1181765"
      },
      "outputs": [
        {
          "name": "stdout",
          "output_type": "stream",
          "text": [
            "[nltk_data] Downloading package wordnet to /root/nltk_data...\n",
            "[nltk_data]   Package wordnet is already up-to-date!\n"
          ]
        }
      ],
      "source": [
        "import pandas as pd\n",
        "from nltk.stem import WordNetLemmatizer\n",
        "from nltk.tokenize import word_tokenize\n",
        "lemmatizer = WordNetLemmatizer()\n",
        "from itertools import combinations\n",
        "from nltk.corpus import wordnet \n",
        "import nltk\n",
        "nltk.download('wordnet')\n",
        "from gensim.parsing.preprocessing import remove_stopwords\n",
        "from numpy import dot,mean\n",
        "from numpy.linalg import norm\n",
        "from sklearn.model_selection import train_test_split, cross_val_score\n",
        "import requests\n",
        "from bs4 import BeautifulSoup\n",
        "import warnings\n",
        "warnings.filterwarnings(\"ignore\")\n",
        "import joblib\n",
        "import math"
      ]
    },
    {
      "cell_type": "markdown",
      "metadata": {
        "id": "IbspnuIOQfEZ"
      },
      "source": [
        "reading the dataset"
      ]
    },
    {
      "cell_type": "code",
      "execution_count": 4,
      "metadata": {
        "id": "Nmg2NdXazyf3"
      },
      "outputs": [],
      "source": [
        "dataset=pd.read_csv(\"/content/gdrive/MyDrive/dis_sym_dataset_comb.csv\",encoding='utf-8')\n",
        "dataset2=pd.read_csv(\"/content/gdrive/MyDrive/temp.csv\")"
      ]
    },
    {
      "cell_type": "code",
      "execution_count": 5,
      "metadata": {
        "colab": {
          "base_uri": "https://localhost:8080/",
          "height": 730
        },
        "id": "FDqU8esRz-D5",
        "outputId": "c44cf0b6-7b7d-4b97-c04f-b38f68651751"
      },
      "outputs": [
        {
          "data": {
            "text/html": [
              "\n",
              "  <div id=\"df-0ec99602-55f4-4e41-a8f4-443479298b2f\">\n",
              "    <div class=\"colab-df-container\">\n",
              "      <div>\n",
              "<style scoped>\n",
              "    .dataframe tbody tr th:only-of-type {\n",
              "        vertical-align: middle;\n",
              "    }\n",
              "\n",
              "    .dataframe tbody tr th {\n",
              "        vertical-align: top;\n",
              "    }\n",
              "\n",
              "    .dataframe thead th {\n",
              "        text-align: right;\n",
              "    }\n",
              "</style>\n",
              "<table border=\"1\" class=\"dataframe\">\n",
              "  <thead>\n",
              "    <tr style=\"text-align: right;\">\n",
              "      <th></th>\n",
              "      <th>label_dis</th>\n",
              "      <th>abdominal cramp</th>\n",
              "      <th>abdominal distention</th>\n",
              "      <th>abnormal behavior</th>\n",
              "      <th>abnormal bleeding</th>\n",
              "      <th>abnormal sensation</th>\n",
              "      <th>abnormally frequent</th>\n",
              "      <th>abscess</th>\n",
              "      <th>aching</th>\n",
              "      <th>acne</th>\n",
              "      <th>...</th>\n",
              "      <th>wet</th>\n",
              "      <th>wheezing</th>\n",
              "      <th>white patch vaginal discharge</th>\n",
              "      <th>widespread pain</th>\n",
              "      <th>withdrawal occurring stopping</th>\n",
              "      <th>worrying</th>\n",
              "      <th>yellow skin</th>\n",
              "      <th>yellowish coloration skin white eye</th>\n",
              "      <th>yellowish skin</th>\n",
              "      <th>yellowish skin crust</th>\n",
              "    </tr>\n",
              "  </thead>\n",
              "  <tbody>\n",
              "    <tr>\n",
              "      <th>0</th>\n",
              "      <td>Abscess</td>\n",
              "      <td>0</td>\n",
              "      <td>0</td>\n",
              "      <td>0</td>\n",
              "      <td>0</td>\n",
              "      <td>0</td>\n",
              "      <td>0</td>\n",
              "      <td>0</td>\n",
              "      <td>0</td>\n",
              "      <td>0</td>\n",
              "      <td>...</td>\n",
              "      <td>0</td>\n",
              "      <td>0</td>\n",
              "      <td>0</td>\n",
              "      <td>0</td>\n",
              "      <td>0</td>\n",
              "      <td>0</td>\n",
              "      <td>0</td>\n",
              "      <td>0</td>\n",
              "      <td>0</td>\n",
              "      <td>0</td>\n",
              "    </tr>\n",
              "    <tr>\n",
              "      <th>1</th>\n",
              "      <td>Acquired Capillary Haemangioma of Eyelid</td>\n",
              "      <td>0</td>\n",
              "      <td>0</td>\n",
              "      <td>0</td>\n",
              "      <td>0</td>\n",
              "      <td>0</td>\n",
              "      <td>0</td>\n",
              "      <td>0</td>\n",
              "      <td>0</td>\n",
              "      <td>0</td>\n",
              "      <td>...</td>\n",
              "      <td>0</td>\n",
              "      <td>0</td>\n",
              "      <td>0</td>\n",
              "      <td>0</td>\n",
              "      <td>0</td>\n",
              "      <td>0</td>\n",
              "      <td>0</td>\n",
              "      <td>0</td>\n",
              "      <td>0</td>\n",
              "      <td>0</td>\n",
              "    </tr>\n",
              "    <tr>\n",
              "      <th>2</th>\n",
              "      <td>Acquired Immuno Deficiency Syndrome</td>\n",
              "      <td>0</td>\n",
              "      <td>0</td>\n",
              "      <td>0</td>\n",
              "      <td>0</td>\n",
              "      <td>0</td>\n",
              "      <td>0</td>\n",
              "      <td>0</td>\n",
              "      <td>0</td>\n",
              "      <td>0</td>\n",
              "      <td>...</td>\n",
              "      <td>0</td>\n",
              "      <td>0</td>\n",
              "      <td>0</td>\n",
              "      <td>0</td>\n",
              "      <td>0</td>\n",
              "      <td>0</td>\n",
              "      <td>0</td>\n",
              "      <td>0</td>\n",
              "      <td>0</td>\n",
              "      <td>0</td>\n",
              "    </tr>\n",
              "    <tr>\n",
              "      <th>3</th>\n",
              "      <td>Acute encephalitis syndrome</td>\n",
              "      <td>0</td>\n",
              "      <td>0</td>\n",
              "      <td>0</td>\n",
              "      <td>0</td>\n",
              "      <td>0</td>\n",
              "      <td>0</td>\n",
              "      <td>0</td>\n",
              "      <td>0</td>\n",
              "      <td>0</td>\n",
              "      <td>...</td>\n",
              "      <td>0</td>\n",
              "      <td>0</td>\n",
              "      <td>0</td>\n",
              "      <td>0</td>\n",
              "      <td>0</td>\n",
              "      <td>0</td>\n",
              "      <td>0</td>\n",
              "      <td>0</td>\n",
              "      <td>0</td>\n",
              "      <td>0</td>\n",
              "    </tr>\n",
              "    <tr>\n",
              "      <th>4</th>\n",
              "      <td>Adult Inclusion Conjunctivitis</td>\n",
              "      <td>0</td>\n",
              "      <td>0</td>\n",
              "      <td>0</td>\n",
              "      <td>0</td>\n",
              "      <td>0</td>\n",
              "      <td>0</td>\n",
              "      <td>0</td>\n",
              "      <td>0</td>\n",
              "      <td>0</td>\n",
              "      <td>...</td>\n",
              "      <td>0</td>\n",
              "      <td>0</td>\n",
              "      <td>0</td>\n",
              "      <td>0</td>\n",
              "      <td>0</td>\n",
              "      <td>0</td>\n",
              "      <td>0</td>\n",
              "      <td>0</td>\n",
              "      <td>0</td>\n",
              "      <td>0</td>\n",
              "    </tr>\n",
              "    <tr>\n",
              "      <th>...</th>\n",
              "      <td>...</td>\n",
              "      <td>...</td>\n",
              "      <td>...</td>\n",
              "      <td>...</td>\n",
              "      <td>...</td>\n",
              "      <td>...</td>\n",
              "      <td>...</td>\n",
              "      <td>...</td>\n",
              "      <td>...</td>\n",
              "      <td>...</td>\n",
              "      <td>...</td>\n",
              "      <td>...</td>\n",
              "      <td>...</td>\n",
              "      <td>...</td>\n",
              "      <td>...</td>\n",
              "      <td>...</td>\n",
              "      <td>...</td>\n",
              "      <td>...</td>\n",
              "      <td>...</td>\n",
              "      <td>...</td>\n",
              "      <td>...</td>\n",
              "    </tr>\n",
              "    <tr>\n",
              "      <th>256</th>\n",
              "      <td>Yaws</td>\n",
              "      <td>0</td>\n",
              "      <td>0</td>\n",
              "      <td>0</td>\n",
              "      <td>0</td>\n",
              "      <td>0</td>\n",
              "      <td>0</td>\n",
              "      <td>0</td>\n",
              "      <td>0</td>\n",
              "      <td>0</td>\n",
              "      <td>...</td>\n",
              "      <td>0</td>\n",
              "      <td>0</td>\n",
              "      <td>0</td>\n",
              "      <td>0</td>\n",
              "      <td>0</td>\n",
              "      <td>0</td>\n",
              "      <td>0</td>\n",
              "      <td>0</td>\n",
              "      <td>0</td>\n",
              "      <td>0</td>\n",
              "    </tr>\n",
              "    <tr>\n",
              "      <th>257</th>\n",
              "      <td>Yellow Fever</td>\n",
              "      <td>0</td>\n",
              "      <td>0</td>\n",
              "      <td>0</td>\n",
              "      <td>0</td>\n",
              "      <td>0</td>\n",
              "      <td>0</td>\n",
              "      <td>0</td>\n",
              "      <td>0</td>\n",
              "      <td>0</td>\n",
              "      <td>...</td>\n",
              "      <td>0</td>\n",
              "      <td>0</td>\n",
              "      <td>0</td>\n",
              "      <td>0</td>\n",
              "      <td>0</td>\n",
              "      <td>0</td>\n",
              "      <td>1</td>\n",
              "      <td>0</td>\n",
              "      <td>0</td>\n",
              "      <td>0</td>\n",
              "    </tr>\n",
              "    <tr>\n",
              "      <th>258</th>\n",
              "      <td>Zika virus disease</td>\n",
              "      <td>0</td>\n",
              "      <td>0</td>\n",
              "      <td>0</td>\n",
              "      <td>0</td>\n",
              "      <td>0</td>\n",
              "      <td>0</td>\n",
              "      <td>0</td>\n",
              "      <td>0</td>\n",
              "      <td>0</td>\n",
              "      <td>...</td>\n",
              "      <td>0</td>\n",
              "      <td>0</td>\n",
              "      <td>0</td>\n",
              "      <td>0</td>\n",
              "      <td>0</td>\n",
              "      <td>0</td>\n",
              "      <td>0</td>\n",
              "      <td>0</td>\n",
              "      <td>0</td>\n",
              "      <td>0</td>\n",
              "    </tr>\n",
              "    <tr>\n",
              "      <th>259</th>\n",
              "      <td>lactose intolerance</td>\n",
              "      <td>0</td>\n",
              "      <td>0</td>\n",
              "      <td>0</td>\n",
              "      <td>0</td>\n",
              "      <td>0</td>\n",
              "      <td>0</td>\n",
              "      <td>0</td>\n",
              "      <td>0</td>\n",
              "      <td>0</td>\n",
              "      <td>...</td>\n",
              "      <td>0</td>\n",
              "      <td>0</td>\n",
              "      <td>0</td>\n",
              "      <td>0</td>\n",
              "      <td>0</td>\n",
              "      <td>0</td>\n",
              "      <td>0</td>\n",
              "      <td>0</td>\n",
              "      <td>0</td>\n",
              "      <td>0</td>\n",
              "    </tr>\n",
              "    <tr>\n",
              "      <th>260</th>\n",
              "      <td>papilloedema</td>\n",
              "      <td>0</td>\n",
              "      <td>0</td>\n",
              "      <td>0</td>\n",
              "      <td>0</td>\n",
              "      <td>0</td>\n",
              "      <td>0</td>\n",
              "      <td>0</td>\n",
              "      <td>0</td>\n",
              "      <td>0</td>\n",
              "      <td>...</td>\n",
              "      <td>0</td>\n",
              "      <td>0</td>\n",
              "      <td>0</td>\n",
              "      <td>0</td>\n",
              "      <td>0</td>\n",
              "      <td>0</td>\n",
              "      <td>0</td>\n",
              "      <td>0</td>\n",
              "      <td>0</td>\n",
              "      <td>0</td>\n",
              "    </tr>\n",
              "  </tbody>\n",
              "</table>\n",
              "<p>261 rows × 490 columns</p>\n",
              "</div>\n",
              "      <button class=\"colab-df-convert\" onclick=\"convertToInteractive('df-0ec99602-55f4-4e41-a8f4-443479298b2f')\"\n",
              "              title=\"Convert this dataframe to an interactive table.\"\n",
              "              style=\"display:none;\">\n",
              "        \n",
              "  <svg xmlns=\"http://www.w3.org/2000/svg\" height=\"24px\"viewBox=\"0 0 24 24\"\n",
              "       width=\"24px\">\n",
              "    <path d=\"M0 0h24v24H0V0z\" fill=\"none\"/>\n",
              "    <path d=\"M18.56 5.44l.94 2.06.94-2.06 2.06-.94-2.06-.94-.94-2.06-.94 2.06-2.06.94zm-11 1L8.5 8.5l.94-2.06 2.06-.94-2.06-.94L8.5 2.5l-.94 2.06-2.06.94zm10 10l.94 2.06.94-2.06 2.06-.94-2.06-.94-.94-2.06-.94 2.06-2.06.94z\"/><path d=\"M17.41 7.96l-1.37-1.37c-.4-.4-.92-.59-1.43-.59-.52 0-1.04.2-1.43.59L10.3 9.45l-7.72 7.72c-.78.78-.78 2.05 0 2.83L4 21.41c.39.39.9.59 1.41.59.51 0 1.02-.2 1.41-.59l7.78-7.78 2.81-2.81c.8-.78.8-2.07 0-2.86zM5.41 20L4 18.59l7.72-7.72 1.47 1.35L5.41 20z\"/>\n",
              "  </svg>\n",
              "      </button>\n",
              "      \n",
              "  <style>\n",
              "    .colab-df-container {\n",
              "      display:flex;\n",
              "      flex-wrap:wrap;\n",
              "      gap: 12px;\n",
              "    }\n",
              "\n",
              "    .colab-df-convert {\n",
              "      background-color: #E8F0FE;\n",
              "      border: none;\n",
              "      border-radius: 50%;\n",
              "      cursor: pointer;\n",
              "      display: none;\n",
              "      fill: #1967D2;\n",
              "      height: 32px;\n",
              "      padding: 0 0 0 0;\n",
              "      width: 32px;\n",
              "    }\n",
              "\n",
              "    .colab-df-convert:hover {\n",
              "      background-color: #E2EBFA;\n",
              "      box-shadow: 0px 1px 2px rgba(60, 64, 67, 0.3), 0px 1px 3px 1px rgba(60, 64, 67, 0.15);\n",
              "      fill: #174EA6;\n",
              "    }\n",
              "\n",
              "    [theme=dark] .colab-df-convert {\n",
              "      background-color: #3B4455;\n",
              "      fill: #D2E3FC;\n",
              "    }\n",
              "\n",
              "    [theme=dark] .colab-df-convert:hover {\n",
              "      background-color: #434B5C;\n",
              "      box-shadow: 0px 1px 3px 1px rgba(0, 0, 0, 0.15);\n",
              "      filter: drop-shadow(0px 1px 2px rgba(0, 0, 0, 0.3));\n",
              "      fill: #FFFFFF;\n",
              "    }\n",
              "  </style>\n",
              "\n",
              "      <script>\n",
              "        const buttonEl =\n",
              "          document.querySelector('#df-0ec99602-55f4-4e41-a8f4-443479298b2f button.colab-df-convert');\n",
              "        buttonEl.style.display =\n",
              "          google.colab.kernel.accessAllowed ? 'block' : 'none';\n",
              "\n",
              "        async function convertToInteractive(key) {\n",
              "          const element = document.querySelector('#df-0ec99602-55f4-4e41-a8f4-443479298b2f');\n",
              "          const dataTable =\n",
              "            await google.colab.kernel.invokeFunction('convertToInteractive',\n",
              "                                                     [key], {});\n",
              "          if (!dataTable) return;\n",
              "\n",
              "          const docLinkHtml = 'Like what you see? Visit the ' +\n",
              "            '<a target=\"_blank\" href=https://colab.research.google.com/notebooks/data_table.ipynb>data table notebook</a>'\n",
              "            + ' to learn more about interactive tables.';\n",
              "          element.innerHTML = '';\n",
              "          dataTable['output_type'] = 'display_data';\n",
              "          await google.colab.output.renderOutput(dataTable, element);\n",
              "          const docLink = document.createElement('div');\n",
              "          docLink.innerHTML = docLinkHtml;\n",
              "          element.appendChild(docLink);\n",
              "        }\n",
              "      </script>\n",
              "    </div>\n",
              "  </div>\n",
              "  "
            ],
            "text/plain": [
              "                                    label_dis  abdominal cramp  \\\n",
              "0                                     Abscess                0   \n",
              "1    Acquired Capillary Haemangioma of Eyelid                0   \n",
              "2         Acquired Immuno Deficiency Syndrome                0   \n",
              "3                 Acute encephalitis syndrome                0   \n",
              "4              Adult Inclusion Conjunctivitis                0   \n",
              "..                                        ...              ...   \n",
              "256                                      Yaws                0   \n",
              "257                              Yellow Fever                0   \n",
              "258                        Zika virus disease                0   \n",
              "259                       lactose intolerance                0   \n",
              "260                              papilloedema                0   \n",
              "\n",
              "     abdominal distention  abnormal behavior  abnormal bleeding  \\\n",
              "0                       0                  0                  0   \n",
              "1                       0                  0                  0   \n",
              "2                       0                  0                  0   \n",
              "3                       0                  0                  0   \n",
              "4                       0                  0                  0   \n",
              "..                    ...                ...                ...   \n",
              "256                     0                  0                  0   \n",
              "257                     0                  0                  0   \n",
              "258                     0                  0                  0   \n",
              "259                     0                  0                  0   \n",
              "260                     0                  0                  0   \n",
              "\n",
              "     abnormal sensation  abnormally frequent  abscess  aching  acne  ...  wet  \\\n",
              "0                     0                    0        0       0     0  ...    0   \n",
              "1                     0                    0        0       0     0  ...    0   \n",
              "2                     0                    0        0       0     0  ...    0   \n",
              "3                     0                    0        0       0     0  ...    0   \n",
              "4                     0                    0        0       0     0  ...    0   \n",
              "..                  ...                  ...      ...     ...   ...  ...  ...   \n",
              "256                   0                    0        0       0     0  ...    0   \n",
              "257                   0                    0        0       0     0  ...    0   \n",
              "258                   0                    0        0       0     0  ...    0   \n",
              "259                   0                    0        0       0     0  ...    0   \n",
              "260                   0                    0        0       0     0  ...    0   \n",
              "\n",
              "     wheezing  white patch vaginal discharge  widespread pain  \\\n",
              "0           0                              0                0   \n",
              "1           0                              0                0   \n",
              "2           0                              0                0   \n",
              "3           0                              0                0   \n",
              "4           0                              0                0   \n",
              "..        ...                            ...              ...   \n",
              "256         0                              0                0   \n",
              "257         0                              0                0   \n",
              "258         0                              0                0   \n",
              "259         0                              0                0   \n",
              "260         0                              0                0   \n",
              "\n",
              "     withdrawal occurring stopping  worrying  yellow skin  \\\n",
              "0                                0         0            0   \n",
              "1                                0         0            0   \n",
              "2                                0         0            0   \n",
              "3                                0         0            0   \n",
              "4                                0         0            0   \n",
              "..                             ...       ...          ...   \n",
              "256                              0         0            0   \n",
              "257                              0         0            1   \n",
              "258                              0         0            0   \n",
              "259                              0         0            0   \n",
              "260                              0         0            0   \n",
              "\n",
              "     yellowish coloration skin white eye  yellowish skin  yellowish skin crust  \n",
              "0                                      0               0                     0  \n",
              "1                                      0               0                     0  \n",
              "2                                      0               0                     0  \n",
              "3                                      0               0                     0  \n",
              "4                                      0               0                     0  \n",
              "..                                   ...             ...                   ...  \n",
              "256                                    0               0                     0  \n",
              "257                                    0               0                     0  \n",
              "258                                    0               0                     0  \n",
              "259                                    0               0                     0  \n",
              "260                                    0               0                     0  \n",
              "\n",
              "[261 rows x 490 columns]"
            ]
          },
          "execution_count": 5,
          "metadata": {},
          "output_type": "execute_result"
        }
      ],
      "source": [
        "dataset2"
      ]
    },
    {
      "cell_type": "code",
      "execution_count": 6,
      "metadata": {
        "colab": {
          "base_uri": "https://localhost:8080/"
        },
        "id": "TJnDvx5cPzsu",
        "outputId": "f9929bbd-4c82-4633-cc6a-656c9ede1dcc"
      },
      "outputs": [
        {
          "data": {
            "text/plain": [
              "['abdominal cramp',\n",
              " 'abdominal distention',\n",
              " 'abnormal behavior',\n",
              " 'abnormal bleeding',\n",
              " 'abnormal sensation',\n",
              " 'abnormally frequent',\n",
              " 'abscess',\n",
              " 'aching',\n",
              " 'acne',\n",
              " 'acquiring drinking alcohol taking lot time',\n",
              " 'affected part turning white',\n",
              " 'anemia',\n",
              " 'anxiety',\n",
              " 'arm',\n",
              " 'attack pain',\n",
              " 'back',\n",
              " 'bacterial infection',\n",
              " 'bad breath',\n",
              " 'bad smelling thin vaginal discharge',\n",
              " 'bad smelling vaginal discharge',\n",
              " 'barky cough',\n",
              " 'belching',\n",
              " 'better sitting worse lying',\n",
              " 'birth baby younger week gestational age',\n",
              " 'bleeding gum',\n",
              " 'bleeding skin',\n",
              " 'blindness',\n",
              " 'blindness one eye',\n",
              " 'blister sunlight',\n",
              " 'bloating',\n",
              " 'blood stool',\n",
              " 'blood urine',\n",
              " 'bloody diarrhea',\n",
              " 'blue',\n",
              " 'bluish skin coloration',\n",
              " 'blurred vision',\n",
              " 'blurry vision',\n",
              " 'body tremor',\n",
              " 'bone pain',\n",
              " 'bowed leg',\n",
              " 'breakdown skeletal muscle',\n",
              " 'breathing problem',\n",
              " 'bruising',\n",
              " 'burning',\n",
              " 'burning redness eye',\n",
              " 'burning stabbing pain',\n",
              " 'burning urination',\n",
              " 'certain thought repeatedly',\n",
              " 'change bowel movement',\n",
              " 'change breast shape',\n",
              " 'change color',\n",
              " 'change hair',\n",
              " 'change reflex',\n",
              " 'change skin color red black',\n",
              " 'change sleeping eating pattern',\n",
              " 'change taste',\n",
              " 'change voice',\n",
              " 'characteristic facial feature',\n",
              " 'characteristic rash',\n",
              " 'chest discomfort',\n",
              " 'chest pain',\n",
              " 'chest tightness',\n",
              " 'chill',\n",
              " 'chronic cough',\n",
              " 'chronic pain bladder',\n",
              " 'clenched fist overlapping finger',\n",
              " 'close object appear blurry',\n",
              " 'clumsy',\n",
              " 'cm lump skin',\n",
              " 'cold sweat',\n",
              " 'coma',\n",
              " 'confused thinking',\n",
              " 'confusion',\n",
              " 'constipation',\n",
              " 'coolness',\n",
              " 'coordination',\n",
              " 'cough bloody mucus',\n",
              " 'cough sputum production',\n",
              " 'coughing',\n",
              " 'coughing blood',\n",
              " 'coughing including coughing blood',\n",
              " 'coughing mucus',\n",
              " 'crawl',\n",
              " 'cry episode',\n",
              " 'dark urine',\n",
              " 'darker',\n",
              " 'daytime sleepiness',\n",
              " 'death child le one year age',\n",
              " 'decreased ability feel pain',\n",
              " 'decreased ability see',\n",
              " 'decreased ability think',\n",
              " 'decreased ability think remember',\n",
              " 'decreased ability turn',\n",
              " 'decreased appetite',\n",
              " 'decreased motivation',\n",
              " 'decreased range motion',\n",
              " 'decreased taste',\n",
              " 'decreased vision',\n",
              " 'dehydration',\n",
              " 'delayed physical growth',\n",
              " 'delirium',\n",
              " 'delusion',\n",
              " 'dementia',\n",
              " 'depending subtype abdominal pain',\n",
              " 'depends organ involved',\n",
              " 'depressed mood',\n",
              " 'depression',\n",
              " 'dermatitis herpetiformis',\n",
              " 'developmental disability',\n",
              " 'diarrhea',\n",
              " 'diarrhea may bloody',\n",
              " 'diarrhea mixed blood',\n",
              " 'diarrhoea',\n",
              " 'difficulty breathing',\n",
              " 'difficulty cutting',\n",
              " 'difficulty eating',\n",
              " 'difficulty getting pregnant',\n",
              " 'difficulty remembering recent event',\n",
              " 'difficulty swallowing',\n",
              " 'difficulty walking',\n",
              " 'dimpling skin',\n",
              " 'discharge penis',\n",
              " 'disorientation',\n",
              " 'distant object appear blurry',\n",
              " 'distorted blurred vision distance',\n",
              " 'dizziness',\n",
              " 'double vision',\n",
              " 'drinking large amount alcohol long period',\n",
              " 'drooping eyelid',\n",
              " 'dry cough',\n",
              " 'dry damp skin',\n",
              " 'dry eye',\n",
              " 'dry mouth',\n",
              " 'ear pain',\n",
              " 'easy prolonged bleeding',\n",
              " 'emotional problem',\n",
              " 'enlarged lymph node neck',\n",
              " 'enlarged spleen',\n",
              " 'enlarged thyroid',\n",
              " 'enlargement thyroid',\n",
              " 'enlargement tonsil',\n",
              " 'episode severe',\n",
              " 'erythema marginatum',\n",
              " 'excess hair',\n",
              " 'excessive amount uterine bleeding',\n",
              " 'excessive daytime sleepiness',\n",
              " 'excessive salivation',\n",
              " 'expanding area redness site tick bite',\n",
              " 'extreme sadness',\n",
              " 'extremity weakness',\n",
              " 'eye pain',\n",
              " 'eye strain',\n",
              " 'eyestrain',\n",
              " 'fast heart rate',\n",
              " 'fast heartbeat',\n",
              " 'fatigue',\n",
              " 'fear water',\n",
              " 'feel need check thing repeatedly',\n",
              " 'feeling cold',\n",
              " 'feeling faint upon standing',\n",
              " 'feeling generally unwell',\n",
              " 'feeling like passing',\n",
              " 'feeling need urinate right away',\n",
              " 'feeling tired',\n",
              " 'feeling tired time',\n",
              " 'fever',\n",
              " 'firm',\n",
              " 'flat discolored spot bump may blister',\n",
              " 'flu like illness',\n",
              " 'flu like symptom',\n",
              " 'fluid filled blister scab',\n",
              " 'fluid nipple',\n",
              " 'frequent infection',\n",
              " 'frequent urination',\n",
              " 'fullness',\n",
              " 'gas',\n",
              " 'gradual loss coordination',\n",
              " 'growth delay',\n",
              " 'gum disease',\n",
              " 'hair loss',\n",
              " 'half ring finger',\n",
              " 'hallucination',\n",
              " 'hallucination usually hearing voice',\n",
              " 'hard swelling skin',\n",
              " 'hard time reading small print',\n",
              " 'headache',\n",
              " 'hearing loss',\n",
              " 'hearing sound external sound present',\n",
              " 'heartburn',\n",
              " 'heat intolerance',\n",
              " 'heavy period',\n",
              " 'high blood pressure',\n",
              " 'high body temperature',\n",
              " 'hoarse voice',\n",
              " 'hold reading material farther away',\n",
              " 'impaired communication',\n",
              " 'inability child',\n",
              " 'inability move facial muscle one side',\n",
              " 'inability move feel one side body',\n",
              " 'increased breath rate',\n",
              " 'increased breathing rate',\n",
              " 'increased fat',\n",
              " 'increased heart rate',\n",
              " 'increased hunger',\n",
              " 'increased risk broken bone',\n",
              " 'increased risk infection',\n",
              " 'increased thirst',\n",
              " 'increasing weakening',\n",
              " 'index',\n",
              " 'infertility',\n",
              " 'inflamed eye',\n",
              " 'insomnia',\n",
              " 'intellectual disability',\n",
              " 'involuntary muscle movement',\n",
              " 'involuntary sleep episode',\n",
              " 'irregular edge',\n",
              " 'irregular menstrual period',\n",
              " 'irregular menstruation',\n",
              " 'irritability',\n",
              " 'irritation',\n",
              " 'itchiness',\n",
              " 'itching',\n",
              " 'itching genital area',\n",
              " 'itching result trouble sleeping',\n",
              " 'itchy',\n",
              " 'itchy blister',\n",
              " 'itchy bump',\n",
              " 'itchy ear',\n",
              " 'jaundice',\n",
              " 'jaw',\n",
              " 'jerky body movement',\n",
              " 'joint bone pain',\n",
              " 'joint swelling',\n",
              " 'large amount watery diarrhea',\n",
              " 'large forehead',\n",
              " 'large lymph node',\n",
              " 'large lymph node around neck',\n",
              " 'leg swelling',\n",
              " 'light sensitivity',\n",
              " 'little pain',\n",
              " 'localized breast pain redness',\n",
              " 'long term fatigue',\n",
              " 'loose frequent bowel movement',\n",
              " 'loose teeth',\n",
              " 'loss appetite',\n",
              " 'loss consciousness may sweating',\n",
              " 'loss hair part head body',\n",
              " 'loss lot blood childbirth',\n",
              " 'loss smell',\n",
              " 'loss vision one side',\n",
              " 'low blood pressure',\n",
              " 'low energy',\n",
              " 'low red blood cell',\n",
              " 'lower abdominal pain',\n",
              " 'lump breast',\n",
              " 'lump bump neck',\n",
              " 'maculopapular rash',\n",
              " 'malabsorption',\n",
              " 'may symptom',\n",
              " 'memory problem',\n",
              " 'mental ability',\n",
              " 'mental change',\n",
              " 'mid dilated pupil',\n",
              " 'middle finger',\n",
              " 'mild moderate intellectual disability',\n",
              " 'minimal',\n",
              " 'missed period',\n",
              " 'mole increasing size',\n",
              " 'mood change',\n",
              " 'mood swing',\n",
              " 'mouth sore',\n",
              " 'mouth ulcer',\n",
              " 'multiple painful joint',\n",
              " 'muscle ache difficulty breathing',\n",
              " 'muscle cramp',\n",
              " 'muscle joint pain',\n",
              " 'muscle spasm',\n",
              " 'muscle weakness',\n",
              " 'muscle weakness beginning foot hand',\n",
              " 'muscle weakness resulting inability move',\n",
              " 'muscular pain',\n",
              " 'myalgia',\n",
              " 'nausea',\n",
              " 'nausea vomiting',\n",
              " 'nausea vomiting weight loss dehydration occur',\n",
              " 'nearly undetectable spell',\n",
              " 'nearsightedness',\n",
              " 'neck',\n",
              " 'neck stiffness',\n",
              " 'needing urinate often',\n",
              " 'newly inverted nipple',\n",
              " 'non itchy skin ulcer',\n",
              " 'non painful cyst middle eyelid',\n",
              " 'nonaligned eye',\n",
              " 'none non specific',\n",
              " 'numbness',\n",
              " 'object different size eye',\n",
              " 'one eye myopia eye hyperopia',\n",
              " 'opening upper lip may extend nose palate',\n",
              " 'others',\n",
              " 'overlying redness',\n",
              " 'pain along inside edge shinbone',\n",
              " 'pain area',\n",
              " 'pain around ear',\n",
              " 'pain doesnt go shingle',\n",
              " 'pain going leg lower back',\n",
              " 'pain sex',\n",
              " 'pain specific bone',\n",
              " 'painful',\n",
              " 'painful blister lower leg',\n",
              " 'painful heavy period',\n",
              " 'painful joint base big toe',\n",
              " 'painful rash occurring stripe',\n",
              " 'painful skin',\n",
              " 'painful swelling parotid gland',\n",
              " 'painful swollen joint',\n",
              " 'painful tender outer part elbow',\n",
              " 'painless',\n",
              " 'painless lump',\n",
              " 'pale color',\n",
              " 'pale skin',\n",
              " 'pallor',\n",
              " 'paralysis',\n",
              " 'patch thick',\n",
              " 'patch white skin',\n",
              " 'perform certain routine repeatedly',\n",
              " 'period vigorous shaking',\n",
              " 'persistent rough white red patch mouth lasting longer week',\n",
              " 'photophobia',\n",
              " 'physical disability',\n",
              " 'pimple like rash',\n",
              " 'pinkish',\n",
              " 'playing video game extremely long period time',\n",
              " 'poor ability tolerate cold',\n",
              " 'poor appetite',\n",
              " 'poor coordination',\n",
              " 'poor tolerance heat',\n",
              " 'post nasal drip',\n",
              " 'problem language',\n",
              " 'problem mood',\n",
              " 'problem understanding speaking',\n",
              " 'problem vision',\n",
              " 'profuse sweating',\n",
              " 'progressive muscle weakness',\n",
              " 'prolonged',\n",
              " 'prolonged cough',\n",
              " 'prominent',\n",
              " 'protein urine',\n",
              " 'psychosis',\n",
              " 'pulsing pain',\n",
              " 'purple colored skin affected area',\n",
              " 'purple colored skin lesion',\n",
              " 'raised',\n",
              " 'raised red blue lesion',\n",
              " 'random outburst laughter',\n",
              " 'rapid breathing',\n",
              " 'recurring episode wheezing',\n",
              " 'red',\n",
              " 'red eye',\n",
              " 'red purple darker skin',\n",
              " 'red rash',\n",
              " 'red scaly patch skin breast',\n",
              " 'red skin',\n",
              " 'red spot white eye',\n",
              " 'red without blister',\n",
              " 'reddish eye',\n",
              " 'redness',\n",
              " 'redness eye',\n",
              " 'repetitive behavior',\n",
              " 'restricted interest',\n",
              " 'right lower abdominal pain',\n",
              " 'rigidity',\n",
              " 'ringing ear heartbeat',\n",
              " 'rough skin growth',\n",
              " 'runny nose',\n",
              " 'scaly patch skin',\n",
              " 'scratchiness',\n",
              " 'seizure',\n",
              " 'sensitivity smell',\n",
              " 'sensitivity sound',\n",
              " 'severe intellectual disability',\n",
              " 'severe pain',\n",
              " 'severe pain lower back abdomen',\n",
              " 'shakiness',\n",
              " 'shaking',\n",
              " 'sharp chest pain',\n",
              " 'shivering',\n",
              " 'shock like pain one side face last second minute',\n",
              " 'short height',\n",
              " 'short stature',\n",
              " 'shortness breath',\n",
              " 'sit',\n",
              " 'skin blister',\n",
              " 'skin breakdown',\n",
              " 'skin lesion generally pink color project outward',\n",
              " 'skin peeling',\n",
              " 'sleep problem',\n",
              " 'sleeping problem',\n",
              " 'slowness movement',\n",
              " 'small',\n",
              " 'small blister break open form painful ulcer',\n",
              " 'small blister surrounding swelling',\n",
              " 'small face',\n",
              " 'small head',\n",
              " 'small jaw',\n",
              " 'sneezing',\n",
              " 'social withdrawal',\n",
              " 'sometimes symptom',\n",
              " 'sore arm leg',\n",
              " 'sore throat',\n",
              " 'sore wrist',\n",
              " 'stiff muscle',\n",
              " 'stiff neck',\n",
              " 'stiffness',\n",
              " 'stomach pain',\n",
              " 'stroke',\n",
              " 'stuffy itchy nose',\n",
              " 'stunted growth',\n",
              " 'sudden',\n",
              " 'sudden loss muscle strength',\n",
              " 'sweat',\n",
              " 'swell pain near tumor',\n",
              " 'swelling',\n",
              " 'swelling abdomen',\n",
              " 'swelling around eye',\n",
              " 'swelling hand foot',\n",
              " 'swollen',\n",
              " 'swollen hand foot',\n",
              " 'swollen lymph node',\n",
              " 'taste acid',\n",
              " 'temporary fleeting vision one eye',\n",
              " 'tender breast',\n",
              " 'testicular pain',\n",
              " 'tingling',\n",
              " 'tingling hand foot',\n",
              " 'tingling thumb',\n",
              " 'tiredness',\n",
              " 'tooth loss',\n",
              " 'tremor',\n",
              " 'triangular tissue growth cornea',\n",
              " 'trouble breathing nose',\n",
              " 'trouble coordination',\n",
              " 'trouble opening mouth',\n",
              " 'trouble seeing',\n",
              " 'trouble sensation',\n",
              " 'trouble sleeping',\n",
              " 'trouble social interaction',\n",
              " 'trouble speaking',\n",
              " 'trouble swallowing',\n",
              " 'trouble talking',\n",
              " 'trouble walking',\n",
              " 'typically none',\n",
              " 'ulcer',\n",
              " 'ulcer around genitals',\n",
              " 'ulceration',\n",
              " 'unable move',\n",
              " 'unexplained weight loss',\n",
              " 'unintended weight loss',\n",
              " 'unpleasant smell present breath',\n",
              " 'upper abdominal pain',\n",
              " 'usage resulting problem',\n",
              " 'vaginal bleeding',\n",
              " 'vaginal bleeding without pain',\n",
              " 'vaginal discharge',\n",
              " 'variable',\n",
              " 'vary depending part brain involved',\n",
              " 'varying degree muscle weakness',\n",
              " 'velvety skin',\n",
              " 'vision loss',\n",
              " 'vomiting',\n",
              " 'warm',\n",
              " 'wart',\n",
              " 'watery eye',\n",
              " 'weak grip',\n",
              " 'weak muscle',\n",
              " 'weakness limb',\n",
              " 'weakness numbness affected leg',\n",
              " 'webbed neck',\n",
              " 'weight gain',\n",
              " 'wet',\n",
              " 'wheezing',\n",
              " 'white patch vaginal discharge',\n",
              " 'widespread pain',\n",
              " 'withdrawal occurring stopping',\n",
              " 'worrying',\n",
              " 'yellow skin',\n",
              " 'yellowish coloration skin white eye',\n",
              " 'yellowish skin',\n",
              " 'yellowish skin crust']"
            ]
          },
          "execution_count": 6,
          "metadata": {},
          "output_type": "execute_result"
        }
      ],
      "source": [
        "data_symptom=list(dataset.columns)\n",
        "data_symptom.remove('label_dis')\n",
        "data_symptom"
      ]
    },
    {
      "cell_type": "code",
      "execution_count": 7,
      "metadata": {
        "id": "Ynov7wgSZerY"
      },
      "outputs": [],
      "source": [
        "#function to get synonym of a given term\n",
        "def syno(token):\n",
        "  synonym = []\n",
        "  website = 'https://www.synonym.com/synonyms/';\n",
        "  myLinkFinder = website + token\n",
        "  synoPage = requests.get(myLinkFinder,verify=False)\n",
        "  currContent = BeautifulSoup(synoPage.content, 'html5lib')\n",
        "  html_Div = currContent.find('div', class_='section-list-wrapper show')\n",
        "  row = html_Div.find_all('li')\n",
        "  for i in row:\n",
        "    synonym.append(i.get_text())\n",
        "  for i in wordnet.synsets(token):\n",
        "    synonym+=i.lemma_names()\n",
        "  return set(synonym)\n",
        "\n",
        "#function to lemmetize the word\n",
        "def lemme(txt):\n",
        "  txt=nltk.word_tokenize(txt)\n",
        "  temp=[]\n",
        "  for i in txt:\n",
        "    temp.append(WordNetLemmatizer().lemmatize(i))\n",
        "  return temp\n",
        "\n",
        "#function to calculate jaccard coefficient of 2 set\n",
        "def getJaccard(setA,setB):\n",
        "  #print(setA,setB)\n",
        "  return(len(setA.intersection(setB))/len(setA))\n",
        "\n",
        "\n",
        "\n",
        "#fucntion to calculate cosine similarity between 2 lists\n",
        "def cos_sim(listA, listB):\n",
        "  cos_sim = dot(listA, listB) / (norm(listA) * norm(listB))\n",
        "  return cos_sim\n",
        "\n",
        "#function to process the input symptoms\n",
        "def refine_symptoms(input_symptoms):\n",
        "  input_symptoms=input_symptoms.lower()\n",
        "  input_symptoms=input_symptoms.split(\",\")\n",
        "  refined_symptoms=[]\n",
        "  for i in input_symptoms:\n",
        "    i=i.replace(\"-\",\" \")\n",
        "    i=i.replace(\"'\",\"\")\n",
        "    refined_symptoms.append(i)\n",
        "  print(refined_symptoms)\n",
        "  return refined_symptoms\n",
        "\n",
        "#function to add synonyms of the symptoms in the list and extend the symptom list\n",
        "def extend_symptoms(refined_symptoms):\n",
        "  for sym in refined_symptoms:\n",
        "  #remove stopwords if any before taking its synonym\n",
        "    sym=remove_stopwords(sym)\n",
        "    sym = sym.split()\n",
        "    set_sym = set()\n",
        "    for comb in range(1, len(sym)+1):\n",
        "        for sub_set in combinations(sym, comb):\n",
        "            sub_set=' '.join(sub_set)\n",
        "            sub_set = syno(sub_set) \n",
        "            set_sym.update(sub_set)\n",
        "    extended_symptom.append(' '.join(set_sym))\n",
        "  print(extended_symptom)\n",
        "  return extended_symptom\n",
        "\n",
        "#selecting relevent symptoms from the dataset\n",
        "def relevent_symptom(data_symptom,extended_symptom):\n",
        "  our_symptom=[]\n",
        "  for sym in data_symptom:\n",
        "    data_sym_tokens=sym.split()\n",
        "    for user_sym in extended_symptom:\n",
        "      if getJaccard(set(data_sym_tokens),set(user_sym.split()))>0.5:\n",
        "        our_symptom.append(sym)\n",
        "  print(our_symptom)\n",
        "  return our_symptom\n",
        "\n",
        "#confirming from user , the symptoms present in dataset\n",
        "def confirm_relevent_symptom(our_symptom):\n",
        "  poss_disease=set()\n",
        "  input_list=input(\"\\n just confirm the relevent symptoms by entering their indices separated by comma\\n\").split(\",\")\n",
        "  for i in input_list:\n",
        "    new_symptom.append(our_symptom[int(i)-1])\n",
        "    poss_disease.update(list(dataset2[dataset2[our_symptom[int(i)-1]]==1]['label_dis']))\n",
        "  return new_symptom,poss_disease\n",
        "\n",
        "#selecting co-occuring symptoms from the dataset\n",
        "def getCoOccuringSymptoms(new_symptom):\n",
        "  for disease in poss_disease:\n",
        "    temp_values = dataset2.loc[dataset2['label_dis'] == disease].values\n",
        "    temp_list=list(temp_values[0])\n",
        "    del temp_list[0]\n",
        "    index=0\n",
        "    for i in temp_list:\n",
        "      if i==1 and data_symptom[index] not in new_symptom:\n",
        "        co_occur_symptom.append(data_symptom[index])  \n",
        "      index+=1\n",
        "  return co_occur_symptom\n",
        "\n",
        "#gives most probable diseases\n",
        "def giveBestDiseases(predicted_list):\n",
        "  bestK = predicted_list[0].argsort()\n",
        "  bestK=bestK[-7:]\n",
        "  bestK=bestK[::-1]\n",
        "  return bestK\n",
        "\n",
        "#get probabilities of the selected diseases\n",
        "def get_probability(disease,new_symptom,bestK):\n",
        "  for i in bestK:\n",
        "    value_list=list(dataset2.loc[dataset2[\"label_dis\"]==disease[i]].values)\n",
        "    value_list=list(value_list[0])\n",
        "    del value_list[0]\n",
        "    ind=0\n",
        "    for j in value_list:\n",
        "      if j==1:\n",
        "        dis_set.add(data_symptom[ind])\n",
        "      ind+=1\n",
        "    pod=(len(dis_set.intersection(set(new_symptom)))+1)/(len(new_symptom)+1)\n",
        "    disease_prob[i]=pod*100\n",
        "  return disease_prob"
      ]
    },
    {
      "cell_type": "markdown",
      "metadata": {
        "id": "GavxyK7qiItm"
      },
      "source": [
        "taking input from the user"
      ]
    },
    {
      "cell_type": "code",
      "execution_count": 8,
      "metadata": {
        "colab": {
          "base_uri": "https://localhost:8080/"
        },
        "id": "T0yxa7oowBu0",
        "outputId": "16a4bd67-d9e1-4b6b-e80e-cc0c5224377f"
      },
      "outputs": [
        {
          "name": "stdout",
          "output_type": "stream",
          "text": [
            "enter symptoms separated by commacough,vomiting,fever\n",
            "['cough', 'vomiting', 'fever']\n"
          ]
        }
      ],
      "source": [
        "input_symptoms=str(input(\"enter symptoms separated by comma\"))\n",
        "refined_symptoms=refine_symptoms(input_symptoms)"
      ]
    },
    {
      "cell_type": "markdown",
      "metadata": {
        "id": "146YRX0qh6LI"
      },
      "source": [
        "extending the input symptoms so that we get more words....which will help in matching and prediction"
      ]
    },
    {
      "cell_type": "code",
      "execution_count": 9,
      "metadata": {
        "colab": {
          "base_uri": "https://localhost:8080/"
        },
        "id": "IK0gdK9557w3",
        "outputId": "bb4fbb41-39f9-4cac-937f-4ec0cafb7a86"
      },
      "outputs": [
        {
          "name": "stdout",
          "output_type": "stream",
          "text": [
            "['hawk expectorate cough out cough clear the throat coughing hack spit up whoop spit out', 'retch sick rumination reflex response puking spue reflex vomit_up projection reflex action cat physiological reaction throw_up barf inborn reflex innate reflex disgorge upchuck hematemesis chuck purge unconditioned reflex regorge hyperemesis be_sick emesis spew vomit disgorgement haematemesis regurgitation vomiting cast regurgitate ejection forcing out expulsion puke honk', 'pyrexia feverishness symptom hyperpyrexia febricity febrility fever']\n"
          ]
        }
      ],
      "source": [
        "extended_symptom = []\n",
        "extended_symptom = extend_symptoms(refined_symptoms)"
      ]
    },
    {
      "cell_type": "markdown",
      "metadata": {
        "id": "60SXBfnCXLmR"
      },
      "source": [
        "selecting relevant symptoms from the dataset"
      ]
    },
    {
      "cell_type": "code",
      "execution_count": 10,
      "metadata": {
        "colab": {
          "base_uri": "https://localhost:8080/"
        },
        "id": "1uJMBB-hXKw2",
        "outputId": "277162d6-fe74-434f-b961-b97e7e374c10"
      },
      "outputs": [
        {
          "name": "stdout",
          "output_type": "stream",
          "text": [
            "['coughing', 'fever', 'vomiting']\n"
          ]
        }
      ],
      "source": [
        "our_symptom=[]\n",
        "our_symptom= relevent_symptom(data_symptom,extended_symptom)"
      ]
    },
    {
      "cell_type": "markdown",
      "metadata": {
        "id": "LQCK3x-ehq-4"
      },
      "source": [
        "asking to confirm symptoms of our dataset matching with user input"
      ]
    },
    {
      "cell_type": "code",
      "execution_count": 25,
      "metadata": {
        "colab": {
          "base_uri": "https://localhost:8080/"
        },
        "id": "dcgo_7QxLghm",
        "outputId": "114f0703-a9fa-4d2d-f587-b6674a3e6c20"
      },
      "outputs": [
        {
          "name": "stdout",
          "output_type": "stream",
          "text": [
            "This are matching system with the given symptoms\n",
            "1   coughing\n",
            "2   fever\n",
            "3   vomiting\n",
            "\n",
            " just confirm the relevent symptoms by entering their indices separated by comma\n",
            "1,2,3\n"
          ]
        }
      ],
      "source": [
        "print(\"This are matching system with the given symptoms\")\n",
        "for i in range(0,len(our_symptom)):\n",
        "  print(i+1,\" \",our_symptom[i])\n",
        "\n",
        "new_symptom=[]\n",
        "new_symptom,poss_disease=confirm_relevent_symptom(our_symptom)"
      ]
    },
    {
      "cell_type": "markdown",
      "metadata": {
        "id": "C3SKFoMOhmsa"
      },
      "source": [
        "selecting co-occuring symptoms"
      ]
    },
    {
      "cell_type": "code",
      "execution_count": 26,
      "metadata": {
        "id": "vjdPNnRLYLoh"
      },
      "outputs": [],
      "source": [
        "co_occur_symptom=[]\n",
        "co_occur_symptom=getCoOccuringSymptoms(new_symptom) "
      ]
    },
    {
      "cell_type": "markdown",
      "metadata": {
        "id": "kkPnbG_ihjtb"
      },
      "source": [
        "sorting co-occuring symptom"
      ]
    },
    {
      "cell_type": "code",
      "execution_count": 13,
      "metadata": {
        "id": "80n6Q5bCe6Hw"
      },
      "outputs": [],
      "source": [
        "from collections import Counter\n",
        "import operator\n",
        "dict_symp = dict(Counter(co_occur_symptom))\n",
        "dict_symp_sorted = sorted(dict_symp.items(), key=operator.itemgetter(1),reverse=True)"
      ]
    },
    {
      "cell_type": "markdown",
      "metadata": {
        "id": "w__xAVcAhc4b"
      },
      "source": [
        "adding co-occuring symptoms in the final list"
      ]
    },
    {
      "cell_type": "code",
      "execution_count": 14,
      "metadata": {
        "id": "hSwaUU_YfVGZ"
      },
      "outputs": [],
      "source": [
        "new_symptom.append(dict_symp_sorted[0][0])\n",
        "new_symptom.append(dict_symp_sorted[1][0])"
      ]
    },
    {
      "cell_type": "markdown",
      "metadata": {
        "id": "qb0EYjSLhYe0"
      },
      "source": [
        "creating sample vector for our final symptoms"
      ]
    },
    {
      "cell_type": "code",
      "execution_count": 56,
      "metadata": {
        "id": "5Wcm2UJzmeOG"
      },
      "outputs": [],
      "source": [
        "my_sample=[]\n",
        "for x in range(0,len(data_symptom)):\n",
        "  my_sample.append(0)\n",
        "for val in new_symptom:\n",
        "  my_sample[data_symptom.index(val)]=1"
      ]
    },
    {
      "cell_type": "markdown",
      "metadata": {
        "id": "GPyxGwlHhRS6"
      },
      "source": [
        "Logistic Regression "
      ]
    },
    {
      "cell_type": "code",
      "execution_count": 16,
      "metadata": {
        "id": "TaSihkcZnUoO"
      },
      "outputs": [],
      "source": [
        "from sklearn.linear_model import LogisticRegression\n",
        "x_of_data = dataset2.iloc[:, 1:]\n",
        "y_of_data = dataset2.iloc[:, 0:1]\n",
        "\n",
        "log_reg = LogisticRegression()\n",
        "log_reg = log_reg.fit(x_of_data, y_of_data)\n",
        "\n",
        "predicted_list = log_reg.predict_proba([my_sample])\n",
        "#joblib.dump(log_reg,\"log_reg.pkl\")"
      ]
    },
    {
      "cell_type": "markdown",
      "metadata": {
        "id": "ygKoZwqjhOL7"
      },
      "source": [
        "KNN model "
      ]
    },
    {
      "cell_type": "code",
      "execution_count": 17,
      "metadata": {
        "colab": {
          "base_uri": "https://localhost:8080/"
        },
        "id": "XcKmhtbQUyWC",
        "outputId": "6594bc4a-4899-4fbf-e7a5-ffb4b263d0ac"
      },
      "outputs": [
        {
          "data": {
            "text/plain": [
              "['naiveBayes.pkl']"
            ]
          },
          "execution_count": 17,
          "metadata": {},
          "output_type": "execute_result"
        }
      ],
      "source": [
        "from sklearn.neighbors import KNeighborsClassifier\n",
        "x_of_data = dataset2.iloc[:, 1:]\n",
        "y_of_data = dataset2.iloc[:, 0:1]\n",
        "naiveBayes = KNeighborsClassifier(n_neighbors=7)\n",
        "naiveBayes.fit(x_of_data, y_of_data)\n",
        "predicted_list = naiveBayes.predict_proba([my_sample])\n",
        "joblib.dump(naiveBayes,\"naiveBayes.pkl\")"
      ]
    },
    {
      "cell_type": "markdown",
      "metadata": {
        "id": "p9J0zrlvgBck"
      },
      "source": [
        "getting best k probilities from the set of probabilities "
      ]
    },
    {
      "cell_type": "code",
      "execution_count": 18,
      "metadata": {
        "id": "MagcqOProwsQ"
      },
      "outputs": [],
      "source": [
        "bestK=giveBestDiseases(predicted_list)\n"
      ]
    },
    {
      "cell_type": "markdown",
      "metadata": {
        "id": "hTvJTptm1iHj"
      },
      "source": [
        "calculating probabilities"
      ]
    },
    {
      "cell_type": "code",
      "execution_count": 19,
      "metadata": {
        "id": "XKH1nlcB1hQp"
      },
      "outputs": [],
      "source": [
        "disease = list(y_of_data['label_dis'])\n",
        "disease.sort()\n",
        "disease_prob={}\n",
        "dis_set=set()\n",
        "disease_prob=get_probability(disease,new_symptom,bestK)"
      ]
    },
    {
      "cell_type": "markdown",
      "metadata": {
        "id": "jQ9HrAwSfk2i"
      },
      "source": [
        "printing all the probable diseases"
      ]
    },
    {
      "cell_type": "code",
      "execution_count": 20,
      "metadata": {
        "colab": {
          "base_uri": "https://localhost:8080/"
        },
        "id": "EYdUGH4FBe3v",
        "outputId": "9f27a412-abb2-4f41-c013-fc1ec2052af3"
      },
      "outputs": [
        {
          "name": "stdout",
          "output_type": "stream",
          "text": [
            "1 Paratyphoid fever 83.33333333333334 %\n",
            "2 Rocky Mountain spotted fever 83.33333333333334 %\n",
            "3 Rift Valley fever 83.33333333333334 %\n",
            "4 Leptospirosis 83.33333333333334 %\n",
            "5 Crimean Congo haemorrhagic fever (CCHF) 83.33333333333334 %\n",
            "6 Bubonic plague 83.33333333333334 %\n",
            "7 Malaria 66.66666666666666 %\n"
          ]
        }
      ],
      "source": [
        "dict_final_sorted = sorted(disease_prob.items(), key=operator.itemgetter(1),reverse=True)\n",
        "ind=1\n",
        "old=0\n",
        "for i in dict_final_sorted:\n",
        "  if(old==disease_prob[i[0]]):\n",
        "    print(ind,disease[i[0]],disease_prob[i[0]],\"%\")\n",
        "  else:\n",
        "    print(ind,disease[i[0]],disease_prob[i[0]],\"%\")\n",
        "  ind+=1\n",
        "  old=disease_prob[i[0]]"
      ]
    },
    {
      "cell_type": "markdown",
      "metadata": {
        "id": "dgxtgjMcfcGw"
      },
      "source": [
        "TF-IDF + cosine similarity"
      ]
    },
    {
      "cell_type": "markdown",
      "metadata": {
        "id": "wV4OgxLOL8MG"
      },
      "source": [
        "here in our case only binary TF can work because \n",
        "if we consider the disease as a document and symptom as a token of the document then in each document the token can be present single time only. "
      ]
    },
    {
      "cell_type": "markdown",
      "metadata": {
        "id": "BAzUuyUpyE4f"
      },
      "source": [
        "calculating idf for each symptom"
      ]
    },
    {
      "cell_type": "code",
      "execution_count": 37,
      "metadata": {
        "id": "XQEcumOHyDi5"
      },
      "outputs": [],
      "source": [
        "idf_dict={}\n",
        "for i in data_symptom:\n",
        "  temp_list=list(dataset2[i])\n",
        "  idf_dict[i]=math.log(temp_list.count(1)/(len(dataset2)+1),2)"
      ]
    },
    {
      "cell_type": "markdown",
      "metadata": {
        "id": "jLJ41Vvl8sur"
      },
      "source": [
        "making a new dataset to store tfidf value"
      ]
    },
    {
      "cell_type": "code",
      "execution_count": 39,
      "metadata": {
        "id": "3aefO3LP2vKI"
      },
      "outputs": [],
      "source": [
        "dataset2_tfidf = dataset2.copy()"
      ]
    },
    {
      "cell_type": "markdown",
      "metadata": {
        "id": "P0Pp_m3O8xyy"
      },
      "source": [
        "filling the tfidf value to dataframe"
      ]
    },
    {
      "cell_type": "code",
      "execution_count": 47,
      "metadata": {
        "id": "qweRirtG3iq3"
      },
      "outputs": [],
      "source": [
        "for row in range(0,len(dataset2)):\n",
        "  for col in data_symptom:\n",
        "    dataset2_tfidf.loc[row,col]=dataset2.loc[row,col]*idf_dict[col]"
      ]
    },
    {
      "cell_type": "markdown",
      "metadata": {
        "id": "ujSchlH382wT"
      },
      "source": [
        "creating tfidf vector for input symptoms"
      ]
    },
    {
      "cell_type": "code",
      "execution_count": 55,
      "metadata": {
        "id": "l79ESPpm6BI8"
      },
      "outputs": [],
      "source": [
        "my_sample_vector=[]\n",
        "for x in range(0,len(data_symptom)):\n",
        "  my_sample_vector.append(0)\n",
        "for val in new_symptom:\n",
        "  my_sample_vector[data_symptom.index(val)]=1*idf_dict[val]"
      ]
    },
    {
      "cell_type": "markdown",
      "metadata": {
        "id": "Nm4lMxDb88yO"
      },
      "source": [
        "predicting the disease using cosine similarity score between the query and document vector"
      ]
    },
    {
      "cell_type": "code",
      "execution_count": 59,
      "metadata": {
        "colab": {
          "base_uri": "https://localhost:8080/"
        },
        "id": "QUDIkfcqfhXL",
        "outputId": "45233a84-9b65-44c4-b786-fb76826c9ad8"
      },
      "outputs": [
        {
          "name": "stdout",
          "output_type": "stream",
          "text": [
            "Brucellosis 83.26183751146185 %\n",
            "Malaria 46.259559046662076 %\n",
            "Influenza 44.15470207353713 %\n",
            "Asthma 39.34440904161031 %\n",
            "Gastroenteritis 33.9275484281948 %\n",
            "Bubonic plague 30.930109395354826 %\n",
            "Trichinosis 28.553874674079303 %\n"
          ]
        }
      ],
      "source": [
        "dic_TF_IDF={}\n",
        "for i in range(0,len(dataset2_tfidf)):\n",
        "  temp=list(dataset2_tfidf.iloc[i])\n",
        "  first_element=temp[0]\n",
        "  del temp[0]\n",
        "  dic_TF_IDF[first_element]=cos_sim(temp,my_sample_vector)\n",
        "dict_final_sorted = sorted(dic_TF_IDF.items(), key=operator.itemgetter(1),reverse=True)\n",
        "j=0\n",
        "for i in dict_final_sorted:\n",
        "  if j>6:\n",
        "    break\n",
        "  print(i[0],i[1]*100,\"%\")\n",
        "  j+=1"
      ]
    }
  ],
  "metadata": {
    "colab": {
      "collapsed_sections": [],
      "name": "IR_PROJECT.ipynb",
      "provenance": []
    },
    "kernelspec": {
      "display_name": "Python 3",
      "name": "python3"
    },
    "language_info": {
      "name": "python"
    }
  },
  "nbformat": 4,
  "nbformat_minor": 0
}
